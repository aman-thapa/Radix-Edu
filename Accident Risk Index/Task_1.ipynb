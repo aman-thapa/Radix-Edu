{
  "nbformat": 4,
  "nbformat_minor": 0,
  "metadata": {
    "colab": {
      "provenance": []
    },
    "kernelspec": {
      "name": "python3",
      "display_name": "Python 3"
    },
    "language_info": {
      "name": "python"
    }
  },
  "cells": [
    {
      "cell_type": "markdown",
      "source": [
        "# Importing libraries"
      ],
      "metadata": {
        "id": "lgw4b4gVB550"
      }
    },
    {
      "cell_type": "code",
      "execution_count": null,
      "metadata": {
        "id": "A2TPL2Aai-eL"
      },
      "outputs": [],
      "source": [
        "import pandas as pd\n",
        "import numpy as np\n",
        "import matplotlib.pyplot as plt\n",
        "import seaborn as sns\n",
        "import io\n",
        "from sklearn.model_selection import train_test_split\n",
        "from sklearn.metrics import confusion_matrix, classification_report, accuracy_score, r2_score\n",
        "\n",
        "from sklearn.metrics import mean_squared_error,mean_absolute_error\n",
        "from sklearn.metrics import zero_one_loss\n",
        "from sklearn.preprocessing import LabelEncoder\n",
        "from sklearn.model_selection import KFold,StratifiedKFold,LeaveOneOut\n",
        "import statistics as st"
      ]
    },
    {
      "cell_type": "markdown",
      "source": [
        "# Importing ML Algorithms"
      ],
      "metadata": {
        "id": "zxcNSd3eD6WN"
      }
    },
    {
      "cell_type": "code",
      "source": [
        "from sklearn.linear_model import LogisticRegression\n",
        "from sklearn.svm import SVC\n",
        "from sklearn.ensemble import RandomForestClassifier\n",
        "from sklearn.tree import DecisionTreeClassifier\n",
        "from sklearn.neighbors import KNeighborsClassifier\n",
        "from sklearn.cluster import KMeans\n",
        "from sklearn.linear_model import LinearRegression"
      ],
      "metadata": {
        "id": "FijMCy2CEAsC"
      },
      "execution_count": null,
      "outputs": []
    },
    {
      "cell_type": "markdown",
      "source": [
        "Loading the Dataset"
      ],
      "metadata": {
        "id": "nXvmIoepFEY8"
      }
    },
    {
      "cell_type": "code",
      "source": [
        "from google.colab import files\n",
        "uploaded = files.upload()"
      ],
      "metadata": {
        "id": "-zTlKlTIFIM2"
      },
      "execution_count": null,
      "outputs": []
    },
    {
      "cell_type": "code",
      "source": [
        "df = pd.read_csv(io.BytesIO(uploaded['uk_accident_dataset.csv']))"
      ],
      "metadata": {
        "id": "qzCi5RPDFaKN"
      },
      "execution_count": null,
      "outputs": []
    },
    {
      "cell_type": "code",
      "source": [
        "print(df.head())\n",
        "x =df.iloc[:,:-1]\n",
        "y = df.iloc[:,-1]"
      ],
      "metadata": {
        "id": "Rimc04XlGx8A"
      },
      "execution_count": null,
      "outputs": []
    },
    {
      "cell_type": "code",
      "source": [
        "print(df[2:])\n",
        "print(df.tail())"
      ],
      "metadata": {
        "id": "WKqXY1R1G6u8"
      },
      "execution_count": null,
      "outputs": []
    },
    {
      "cell_type": "code",
      "source": [
        "df.describe()"
      ],
      "metadata": {
        "id": "WrsEGZneG-ew"
      },
      "execution_count": null,
      "outputs": []
    },
    {
      "cell_type": "code",
      "source": [
        "# df = pd.read_csv(r'C:\\Users\\shrav\\Dropbox\\My PC (DESKTOP-689769P)\\Downloads\\Accident_Risk_Index\\Accident_Risk_Index\\uk_accident_dataset.csv')\n",
        "\n",
        "\n",
        "# staistics\n",
        "print()\n",
        "# to access indivisual elements of describe\n",
        "print(df.count())\n",
        "print(df.sum())\n",
        "print(df.max(),df.mean())\n",
        "\n",
        "# cleaning data\n",
        "print(df.fillna(0)) # replaces all NaN from data frame with zero\n",
        "print(df.dropna()) # drop all rows that have NaN value\n",
        "print(df.replace('no','')) # replace all no values with empty string\n",
        "\n",
        "#filtering and sorting\n",
        "print(df.sort_values(by=['Time','Date'],ascending=False)) # sort data first by Time then data\n",
        "print(df.query('Police_force>40'))\n",
        "print(df[df['Date']>23 & df['Time']>6])\n",
        "#todrop values\n",
        "to_drop = [\n",
        "    'Police_force',\n",
        "    'postcode',\n",
        "]\n",
        "print(df.drop(to_drop,inplace=True,axis=1))\n",
        "#changing index of data field\n",
        "df.set_index('postcode', inplace=True)\n",
        "#changing names of columns\n",
        "new_names = {\n",
        "    'Unnamed','unambiguos',\n",
        "}\n",
        "#upto all names\n",
        "print(df.rename(columns=new_names,inplace=True))"
      ],
      "metadata": {
        "id": "wcZDcG3JDCLB"
      },
      "execution_count": null,
      "outputs": []
    },
    {
      "cell_type": "markdown",
      "source": [
        "# Split the dataset into Train and Test"
      ],
      "metadata": {
        "id": "qvIV6YNaC0Lk"
      }
    },
    {
      "cell_type": "code",
      "source": [
        "#then train test split the data\n",
        "x_train,x_test,y_train,y_test = train_test_split(x,y,test_size=0.75)\n",
        "def gen_cls_matrix(y_test,ypred):\n",
        "    cm = confusion_matrix(y_test,ypred)\n",
        "    cl = classification_report(y_test,ypred)\n",
        "    print(cm)\n",
        "    print(cl)\n",
        "def score(model):\n",
        "    print('training score',model.score(x_train,y_train))\n",
        "    print('testing score',model.score(x_test,y_test))"
      ],
      "metadata": {
        "id": "9VtWWSuGCt2A"
      },
      "execution_count": null,
      "outputs": []
    },
    {
      "cell_type": "markdown",
      "source": [
        "# Decision Tree"
      ],
      "metadata": {
        "id": "O5qn1YYcCZyu"
      }
    },
    {
      "cell_type": "code",
      "source": [
        "#1 Decision Tree\n",
        "m1 = DecisionTreeClassifier(criterion='gini',max_depth=5)\n",
        "m1.fit(x_train,y_train)\n",
        "train_test_score(m1)\n",
        "ypred_m1 = m1.predict(x_test)\n",
        "print(ypred_m1)\n",
        "gen_cls_matix(y_test,ypred_m1)"
      ],
      "metadata": {
        "id": "nWaZCzJxCRIs"
      },
      "execution_count": null,
      "outputs": []
    },
    {
      "cell_type": "markdown",
      "source": [
        "# Random Forest Classifier"
      ],
      "metadata": {
        "id": "hHXF5wv4Cgwu"
      }
    },
    {
      "cell_type": "code",
      "source": [
        "#2 Random forest classifier\n",
        "m2 = RandomForestClassifier(n_estimators=55,criterion='gini',max_depth=5)\n",
        "m2.fit(x_train,y_train)\n",
        "train_test_score(m2)\n",
        "ypred_m2 = m2.predict(x_test)\n",
        "print(ypred_m2)\n",
        "gen_cls_matix(y_test,ypred_m2)"
      ],
      "metadata": {
        "id": "O-rzyhQjCMO4"
      },
      "execution_count": null,
      "outputs": []
    },
    {
      "cell_type": "markdown",
      "source": [
        "# SVM"
      ],
      "metadata": {
        "id": "CkdFPQ0PCm3W"
      }
    },
    {
      "cell_type": "code",
      "source": [
        "#3 SVM\n",
        "m3 = SVC(kernel='linear',C=1)\n",
        "m3.fit(x_train,y_train)\n",
        "train_test_score(m3)\n",
        "ypred_m3 = m3.predict(x_test)\n",
        "print(ypred_m3)\n",
        "gen_cls_matix(y_test,ypred_m3)"
      ],
      "metadata": {
        "id": "BdtkBM72CF--"
      },
      "execution_count": null,
      "outputs": []
    }
  ]
}